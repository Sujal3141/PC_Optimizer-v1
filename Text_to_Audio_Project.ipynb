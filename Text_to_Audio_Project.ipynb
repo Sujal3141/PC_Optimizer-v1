{
  "cells": [
    {
      "cell_type": "markdown",
      "metadata": {
        "id": "view-in-github",
        "colab_type": "text"
      },
      "source": [
        "<a href=\"https://colab.research.google.com/github/Sujal3141/PC_Optimizer-v1/blob/main/Text_to_Audio_Project.ipynb\" target=\"_parent\"><img src=\"https://colab.research.google.com/assets/colab-badge.svg\" alt=\"Open In Colab\"/></a>"
      ]
    },
    {
      "cell_type": "code",
      "execution_count": null,
      "metadata": {
        "id": "1sbGUcHf3Vl8"
      },
      "outputs": [],
      "source": [
        "import os"
      ]
    },
    {
      "cell_type": "code",
      "execution_count": null,
      "metadata": {
        "colab": {
          "base_uri": "https://localhost:8080/"
        },
        "id": "d4ae70Gg3h1P",
        "outputId": "ab405adc-ec17-4156-de9c-229e9939891e"
      },
      "outputs": [
        {
          "name": "stdout",
          "output_type": "stream",
          "text": [
            "Welcome to Text to Audio \n",
            " To end the program press 0 \n",
            "Enter the text you want to pronounce : hi\n"
          ]
        }
      ],
      "source": [
        "if __name__==\"__main__\":\n",
        "  print(\"Welcome to Text to Audio \\n To end the program press 0 \")\n",
        "  while True:\n",
        "    x = input(\"Enter the text you want to pronounce : \")\n",
        "    if x == \"0\":\n",
        "      break\n",
        "    os.system(f\"say {x}\")\n",
        "\n"
      ]
    },
    {
      "cell_type": "code",
      "execution_count": null,
      "metadata": {
        "id": "gsc0DCGj6Y6i"
      },
      "outputs": [],
      "source": []
    }
  ],
  "metadata": {
    "colab": {
      "provenance": [],
      "authorship_tag": "ABX9TyPWrGqI/EYod+kSVneOjMvU",
      "include_colab_link": true
    },
    "kernelspec": {
      "display_name": "Python 3",
      "name": "python3"
    },
    "language_info": {
      "name": "python"
    }
  },
  "nbformat": 4,
  "nbformat_minor": 0
}